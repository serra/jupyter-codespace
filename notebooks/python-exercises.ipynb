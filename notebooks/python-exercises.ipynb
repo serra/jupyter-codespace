{
 "cells": [
  {
   "cell_type": "markdown",
   "metadata": {},
   "source": [
    "Een for loop:"
   ]
  },
  {
   "cell_type": "code",
   "execution_count": 1,
   "metadata": {},
   "outputs": [
    {
     "name": "stdout",
     "output_type": "stream",
     "text": [
      "2\n",
      "5\n",
      "8\n"
     ]
    }
   ],
   "source": [
    "for i in range(2,11,3):\n",
    "    print(i)"
   ]
  },
  {
   "cell_type": "markdown",
   "metadata": {},
   "source": [
    "Een palindroom functie met [slicing](https://sites.pitt.edu/~naraehan/python2/tutorial9.html)\n",
    "\n",
    "\n"
   ]
  },
  {
   "cell_type": "code",
   "execution_count": 12,
   "metadata": {},
   "outputs": [
    {
     "name": "stdout",
     "output_type": "stream",
     "text": [
      "lantarenpaal ❌\n",
      "abba ✅\n",
      "palindroom ❌\n",
      "lepel ✅\n",
      "meetsysteem ✅\n",
      "joost ❌\n",
      "parterretrap ✅\n"
     ]
    }
   ],
   "source": [
    "def omgekeerd(woord):\n",
    "    return woord[::-1]\n",
    "\n",
    "def is_palindroom(woord):\n",
    "    return woord == omgekeerd(woord)\n",
    "\n",
    "voorbeeld_woorden = ['lantarenpaal', 'abba', 'palindroom', 'lepel', 'meetsysteem', 'joost', 'parterretrap']\n",
    "\n",
    "for w in voorbeeld_woorden:\n",
    "    if (is_palindroom(w)):\n",
    "        print(w + \" ✅\")\n",
    "    else:\n",
    "        print(w + \" ❌\")"
   ]
  }
 ],
 "metadata": {
  "kernelspec": {
   "display_name": "Python 3",
   "language": "python",
   "name": "python3"
  },
  "language_info": {
   "codemirror_mode": {
    "name": "ipython",
    "version": 3
   },
   "file_extension": ".py",
   "mimetype": "text/x-python",
   "name": "python",
   "nbconvert_exporter": "python",
   "pygments_lexer": "ipython3",
   "version": "3.12.1"
  }
 },
 "nbformat": 4,
 "nbformat_minor": 2
}
